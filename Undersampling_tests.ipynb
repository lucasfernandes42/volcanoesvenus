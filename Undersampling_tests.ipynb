{
 "cells": [
  {
   "cell_type": "code",
   "execution_count": 16,
   "metadata": {
    "collapsed": false
   },
   "outputs": [],
   "source": [
    "import pandas as pd\n",
    "import numpy as np\n",
    "import matplotlib.pyplot as plt\n",
    "\n",
    "from sklearn.svm import SVC\n",
    "from sklearn.preprocessing import StandardScaler\n",
    "from sklearn.metrics import classification_report, accuracy_score\n",
    "from sklearn.model_selection import train_test_split, GridSearchCV\n",
    "\n",
    "import math"
   ]
  },
  {
   "cell_type": "code",
   "execution_count": 17,
   "metadata": {
    "collapsed": false
   },
   "outputs": [],
   "source": [
    "X = pd.read_csv(\"dados/train_images.csv\", header=None)\n",
    "y = pd.read_csv(\"dados/train_labels.csv\")[\"Volcano?\"]\n",
    "X_test = pd.read_csv(\"dados/test_images.csv\", header=None)\n",
    "y_test = pd.read_csv(\"dados/test_labels.csv\")[\"Volcano?\"]"
   ]
  },
  {
   "cell_type": "code",
   "execution_count": 15,
   "metadata": {
    "collapsed": false
   },
   "outputs": [
    {
     "name": "stdout",
     "output_type": "stream",
     "text": [
      "(7000, 12100)\n",
      "(7000,)\n",
      "(2734, 12100)\n",
      "(2734,)\n"
     ]
    }
   ],
   "source": [
    "print(X.shape)\n",
    "print(y.shape)\n",
    "\n",
    "print(X_test.shape)\n",
    "print(y_test.shape)"
   ]
  },
  {
   "cell_type": "code",
   "execution_count": 12,
   "metadata": {
    "collapsed": false,
    "scrolled": true
   },
   "outputs": [
    {
     "name": "stdout",
     "output_type": "stream",
     "text": [
      "   0      1      2      3      4      5      6      7      8      9      \\\n",
      "0     95    101     99    103     95     86     96     89     70    104   \n",
      "1     91     92     91     89     92     93     96    101    107    104   \n",
      "2     87     70     72     74     84     78     93    104    106    106   \n",
      "3      0      0      0      0      0      0      0      0      0      0   \n",
      "4    114    118    124    119     95    118    105    116    123    112   \n",
      "\n",
      "   ...    12090  12091  12092  12093  12094  12095  12096  12097  12098  12099  \n",
      "0  ...      111    107     92     89    103     99    117    116    118     96  \n",
      "1  ...      103     92     93     95     98    105    104    100     90     81  \n",
      "2  ...       84     71     95    102     94     80     91     80     84     90  \n",
      "3  ...       94     81     89     84     80     90     92     80     88     96  \n",
      "4  ...      116    113    102     93    109    104    106    117    111    115  \n",
      "\n",
      "[5 rows x 12100 columns]\n",
      "0    1\n",
      "1    0\n",
      "2    0\n",
      "3    0\n",
      "4    0\n",
      "Name: Volcano?, dtype: int64\n",
      "   0      1      2      3      4      5      6      7      8      9      \\\n",
      "0    107    116    108    101    107    109    108    110    100    109   \n",
      "1     93     95     98    100     90    100    108     98     90    103   \n",
      "2    108    108     92    116    116    140    126    104    112    103   \n",
      "3    165    164    156    159    151    120    103    114    114    116   \n",
      "4    105    106     84    115    121    103     94    108    103     91   \n",
      "\n",
      "   ...    12090  12091  12092  12093  12094  12095  12096  12097  12098  12099  \n",
      "0  ...      111    110    109    109    101    106    106    117    130    134  \n",
      "1  ...       86     93     59     88     89     89     92     99     92    113  \n",
      "2  ...      118    111    113    107    107    121    141    160    131    138  \n",
      "3  ...       69     96    109     91     94     83     48     69     86     75  \n",
      "4  ...       92     89     96     89     91    102     99     90     90     73  \n",
      "\n",
      "[5 rows x 12100 columns]\n",
      "0    0\n",
      "1    0\n",
      "2    1\n",
      "3    0\n",
      "4    1\n",
      "Name: Volcano?, dtype: int64\n"
     ]
    }
   ],
   "source": [
    "print(X.head())\n",
    "print(y.head())\n",
    "\n",
    "print(X_test.head())\n",
    "print(y_test.head())"
   ]
  },
  {
   "cell_type": "code",
   "execution_count": 19,
   "metadata": {
    "collapsed": true
   },
   "outputs": [],
   "source": [
    "scaler = StandardScaler()\n",
    "X = scaler.fit_transform(X)\n",
    "X_test = scaler.fit_transform(X_test)"
   ]
  },
  {
   "cell_type": "code",
   "execution_count": 22,
   "metadata": {
    "collapsed": false,
    "scrolled": true
   },
   "outputs": [
    {
     "data": {
      "text/plain": [
       "SVC(C=1.0, cache_size=200, class_weight=None, coef0=0.0,\n",
       "  decision_function_shape='ovr', degree=3, gamma='auto', kernel='linear',\n",
       "  max_iter=-1, probability=False, random_state=0, shrinking=True,\n",
       "  tol=0.001, verbose=False)"
      ]
     },
     "execution_count": 22,
     "metadata": {},
     "output_type": "execute_result"
    }
   ],
   "source": [
    "classifier = SVC(kernel = 'linear' , random_state = 0)\n",
    "classifier.fit(X,y)"
   ]
  },
  {
   "cell_type": "code",
   "execution_count": 38,
   "metadata": {
    "collapsed": false,
    "scrolled": true
   },
   "outputs": [
    {
     "name": "stdout",
     "output_type": "stream",
     "text": [
      "             precision    recall  f1-score   support\n",
      "\n",
      "          0       0.93      0.97      0.95      2300\n",
      "          1       0.80      0.64      0.71       434\n",
      "\n",
      "avg / total       0.91      0.92      0.91      2734\n",
      "\n",
      "Score: 0.9180687637161667\n"
     ]
    }
   ],
   "source": [
    "predictions = classifier.predict(X_test)\n",
    "print(classification_report(y_test,predictions))\n",
    "print(\"Score: {}\".format(accuracy_score(y_test, predictions)))"
   ]
  },
  {
   "cell_type": "code",
   "execution_count": null,
   "metadata": {
    "collapsed": true
   },
   "outputs": [],
   "source": []
  },
  {
   "cell_type": "code",
   "execution_count": 25,
   "metadata": {
    "collapsed": true
   },
   "outputs": [],
   "source": [
    "def balanced_subsample(x,y,subsample_size=1.0):\n",
    "\n",
    "    class_xs = []\n",
    "    min_elems = None\n",
    "\n",
    "    for yi in np.unique(y):\n",
    "        elems = x[(y == yi)]\n",
    "        class_xs.append((yi, elems))\n",
    "        if min_elems == None or elems.shape[0] < min_elems:\n",
    "            min_elems = elems.shape[0]\n",
    "\n",
    "    use_elems = min_elems\n",
    "    if subsample_size < 1:\n",
    "        use_elems = int(min_elems*subsample_size)\n",
    "\n",
    "    xs = []\n",
    "    ys = []\n",
    "\n",
    "    for ci,this_xs in class_xs:\n",
    "        if len(this_xs) > use_elems:\n",
    "            np.random.shuffle(this_xs)\n",
    "\n",
    "        x_ = this_xs[:use_elems]\n",
    "        y_ = np.empty(use_elems)\n",
    "        y_.fill(ci)\n",
    "\n",
    "        xs.append(x_)\n",
    "        ys.append(y_)\n",
    "\n",
    "    xs = np.concatenate(xs)\n",
    "    ys = np.concatenate(ys)\n",
    "\n",
    "    return xs,ys"
   ]
  },
  {
   "cell_type": "code",
   "execution_count": 26,
   "metadata": {
    "collapsed": true
   },
   "outputs": [],
   "source": [
    "xb,yb = balanced_subsample(X,y);"
   ]
  },
  {
   "cell_type": "code",
   "execution_count": 30,
   "metadata": {
    "collapsed": false
   },
   "outputs": [
    {
     "name": "stdout",
     "output_type": "stream",
     "text": [
      "(2000, 12100)\n",
      "(2000,)\n",
      "(7000, 12100)\n",
      "(7000,)\n"
     ]
    }
   ],
   "source": [
    "print(xb.shape)\n",
    "print(yb.shape)\n",
    "\n",
    "print(X.shape)\n",
    "print(y.shape)"
   ]
  },
  {
   "cell_type": "code",
   "execution_count": 31,
   "metadata": {
    "collapsed": false
   },
   "outputs": [
    {
     "data": {
      "text/plain": [
       "SVC(C=1.0, cache_size=200, class_weight=None, coef0=0.0,\n",
       "  decision_function_shape='ovr', degree=3, gamma='auto', kernel='linear',\n",
       "  max_iter=-1, probability=False, random_state=0, shrinking=True,\n",
       "  tol=0.001, verbose=False)"
      ]
     },
     "execution_count": 31,
     "metadata": {},
     "output_type": "execute_result"
    }
   ],
   "source": [
    "classifier2 = SVC(kernel = 'linear' , random_state = 0)\n",
    "classifier2.fit(xb,yb)"
   ]
  },
  {
   "cell_type": "code",
   "execution_count": 32,
   "metadata": {
    "collapsed": false
   },
   "outputs": [
    {
     "name": "stdout",
     "output_type": "stream",
     "text": [
      "             precision    recall  f1-score   support\n",
      "\n",
      "          0       0.96      0.85      0.91      2300\n",
      "          1       0.52      0.83      0.64       434\n",
      "\n",
      "avg / total       0.89      0.85      0.86      2734\n",
      "\n",
      "Score: 0.8507681053401609\n"
     ]
    }
   ],
   "source": [
    "predictions2 = classifier2.predict(X_test)\n",
    "print(classification_report(y_test,predictions2))\n",
    "print(\"Score: {}\".format(accuracy_score(y_test, predictions2)))"
   ]
  },
  {
   "cell_type": "code",
   "execution_count": null,
   "metadata": {
    "collapsed": true
   },
   "outputs": [],
   "source": []
  },
  {
   "cell_type": "code",
   "execution_count": 33,
   "metadata": {
    "collapsed": false
   },
   "outputs": [
    {
     "data": {
      "text/plain": [
       "SVC(C=1.0, cache_size=200, class_weight=None, coef0=0.0,\n",
       "  decision_function_shape='ovr', degree=3, gamma='auto', kernel='linear',\n",
       "  max_iter=-1, probability=False, random_state=None, shrinking=True,\n",
       "  tol=0.001, verbose=False)"
      ]
     },
     "execution_count": 33,
     "metadata": {},
     "output_type": "execute_result"
    }
   ],
   "source": [
    "classifier3 = SVC(kernel = 'linear')\n",
    "classifier3.fit(xb,yb)"
   ]
  },
  {
   "cell_type": "code",
   "execution_count": 34,
   "metadata": {
    "collapsed": false
   },
   "outputs": [
    {
     "name": "stdout",
     "output_type": "stream",
     "text": [
      "             precision    recall  f1-score   support\n",
      "\n",
      "          0       0.96      0.85      0.91      2300\n",
      "          1       0.52      0.83      0.64       434\n",
      "\n",
      "avg / total       0.89      0.85      0.86      2734\n",
      "\n",
      "Score: 0.8507681053401609\n"
     ]
    }
   ],
   "source": [
    "predictions3 = classifier3.predict(X_test)\n",
    "print(classification_report(y_test,predictions3))\n",
    "print(\"Score: {}\".format(accuracy_score(y_test, predictions3)))"
   ]
  },
  {
   "cell_type": "code",
   "execution_count": null,
   "metadata": {
    "collapsed": true
   },
   "outputs": [],
   "source": []
  },
  {
   "cell_type": "code",
   "execution_count": 36,
   "metadata": {
    "collapsed": false
   },
   "outputs": [
    {
     "data": {
      "text/plain": [
       "SVC(C=0.1, cache_size=200, class_weight=None, coef0=0.0,\n",
       "  decision_function_shape='ovr', degree=3, gamma='auto', kernel='linear',\n",
       "  max_iter=-1, probability=False, random_state=None, shrinking=True,\n",
       "  tol=0.001, verbose=False)"
      ]
     },
     "execution_count": 36,
     "metadata": {},
     "output_type": "execute_result"
    }
   ],
   "source": [
    "classifier4 = SVC(kernel = 'linear',C = 0.1)\n",
    "classifier4.fit(xb,yb)"
   ]
  },
  {
   "cell_type": "code",
   "execution_count": 37,
   "metadata": {
    "collapsed": false
   },
   "outputs": [
    {
     "name": "stdout",
     "output_type": "stream",
     "text": [
      "             precision    recall  f1-score   support\n",
      "\n",
      "          0       0.96      0.85      0.91      2300\n",
      "          1       0.52      0.83      0.64       434\n",
      "\n",
      "avg / total       0.89      0.85      0.86      2734\n",
      "\n",
      "Score: 0.8507681053401609\n"
     ]
    }
   ],
   "source": [
    "predictions4 = classifier4.predict(X_test)\n",
    "print(classification_report(y_test,predictions4))\n",
    "print(\"Score: {}\".format(accuracy_score(y_test, predictions4)))"
   ]
  },
  {
   "cell_type": "code",
   "execution_count": 39,
   "metadata": {
    "collapsed": false
   },
   "outputs": [
    {
     "data": {
      "text/plain": [
       "SVC(C=1.0, cache_size=200, class_weight=None, coef0=0.0,\n",
       "  decision_function_shape='ovr', degree=3, gamma='auto', kernel='rbf',\n",
       "  max_iter=-1, probability=False, random_state=None, shrinking=True,\n",
       "  tol=0.001, verbose=False)"
      ]
     },
     "execution_count": 39,
     "metadata": {},
     "output_type": "execute_result"
    }
   ],
   "source": [
    "classifier5 = SVC(kernel = 'rbf')\n",
    "classifier5.fit(xb,yb)"
   ]
  },
  {
   "cell_type": "code",
   "execution_count": 40,
   "metadata": {
    "collapsed": false
   },
   "outputs": [
    {
     "name": "stdout",
     "output_type": "stream",
     "text": [
      "             precision    recall  f1-score   support\n",
      "\n",
      "          0       0.96      0.92      0.94      2300\n",
      "          1       0.66      0.79      0.72       434\n",
      "\n",
      "avg / total       0.91      0.90      0.91      2734\n",
      "\n",
      "Score: 0.9019751280175567\n"
     ]
    }
   ],
   "source": [
    "predictions5 = classifier5.predict(X_test)\n",
    "print(classification_report(y_test,predictions5))\n",
    "print(\"Score: {}\".format(accuracy_score(y_test, predictions5)))"
   ]
  },
  {
   "cell_type": "code",
   "execution_count": null,
   "metadata": {
    "collapsed": true
   },
   "outputs": [],
   "source": []
  },
  {
   "cell_type": "code",
   "execution_count": 41,
   "metadata": {
    "collapsed": false
   },
   "outputs": [
    {
     "data": {
      "text/plain": [
       "SVC(C=1.0, cache_size=200, class_weight=None, coef0=0.0,\n",
       "  decision_function_shape='ovr', degree=3, gamma='auto', kernel='poly',\n",
       "  max_iter=-1, probability=False, random_state=None, shrinking=True,\n",
       "  tol=0.001, verbose=False)"
      ]
     },
     "execution_count": 41,
     "metadata": {},
     "output_type": "execute_result"
    }
   ],
   "source": [
    "classifier6 = SVC(kernel = 'poly')\n",
    "classifier6.fit(xb,yb)"
   ]
  },
  {
   "cell_type": "code",
   "execution_count": 42,
   "metadata": {
    "collapsed": false
   },
   "outputs": [
    {
     "name": "stdout",
     "output_type": "stream",
     "text": [
      "             precision    recall  f1-score   support\n",
      "\n",
      "          0       0.92      0.88      0.90      2300\n",
      "          1       0.48      0.59      0.53       434\n",
      "\n",
      "avg / total       0.85      0.84      0.84      2734\n",
      "\n",
      "Score: 0.8354059985369422\n"
     ]
    }
   ],
   "source": [
    "predictions6 = classifier6.predict(X_test)\n",
    "print(classification_report(y_test,predictions6))\n",
    "print(\"Score: {}\".format(accuracy_score(y_test, predictions6)))"
   ]
  },
  {
   "cell_type": "code",
   "execution_count": null,
   "metadata": {
    "collapsed": true
   },
   "outputs": [],
   "source": []
  },
  {
   "cell_type": "code",
   "execution_count": 43,
   "metadata": {
    "collapsed": false
   },
   "outputs": [
    {
     "data": {
      "text/plain": [
       "SVC(C=1.0, cache_size=200, class_weight=None, coef0=0.0,\n",
       "  decision_function_shape='ovr', degree=3, gamma='auto', kernel='sigmoid',\n",
       "  max_iter=-1, probability=False, random_state=None, shrinking=True,\n",
       "  tol=0.001, verbose=False)"
      ]
     },
     "execution_count": 43,
     "metadata": {},
     "output_type": "execute_result"
    }
   ],
   "source": [
    "classifier7 = SVC(kernel = 'sigmoid')\n",
    "classifier7.fit(xb,yb)"
   ]
  },
  {
   "cell_type": "code",
   "execution_count": 44,
   "metadata": {
    "collapsed": false
   },
   "outputs": [
    {
     "name": "stdout",
     "output_type": "stream",
     "text": [
      "             precision    recall  f1-score   support\n",
      "\n",
      "          0       0.84      0.51      0.63      2300\n",
      "          1       0.16      0.49      0.24       434\n",
      "\n",
      "avg / total       0.73      0.51      0.57      2734\n",
      "\n",
      "Score: 0.5058522311631309\n"
     ]
    }
   ],
   "source": [
    "predictions7 = classifier7.predict(X_test)\n",
    "print(classification_report(y_test,predictions7))\n",
    "print(\"Score: {}\".format(accuracy_score(y_test, predictions7)))"
   ]
  },
  {
   "cell_type": "code",
   "execution_count": null,
   "metadata": {
    "collapsed": true
   },
   "outputs": [],
   "source": []
  },
  {
   "cell_type": "code",
   "execution_count": 46,
   "metadata": {
    "collapsed": false
   },
   "outputs": [
    {
     "data": {
      "text/plain": [
       "SVC(C=1.0, cache_size=200, class_weight=None, coef0=0.0,\n",
       "  decision_function_shape='ovr', degree=3, gamma='auto', kernel='rbf',\n",
       "  max_iter=-1, probability=False, random_state=None, shrinking=True,\n",
       "  tol=0.001, verbose=False)"
      ]
     },
     "execution_count": 46,
     "metadata": {},
     "output_type": "execute_result"
    }
   ],
   "source": [
    "classifier8 = SVC(kernel = \"rbf\")\n",
    "classifier8.fit(X,y)"
   ]
  },
  {
   "cell_type": "code",
   "execution_count": 47,
   "metadata": {
    "collapsed": false
   },
   "outputs": [
    {
     "name": "stdout",
     "output_type": "stream",
     "text": [
      "             precision    recall  f1-score   support\n",
      "\n",
      "          0       0.90      1.00      0.95      2300\n",
      "          1       0.97      0.42      0.59       434\n",
      "\n",
      "avg / total       0.91      0.91      0.89      2734\n",
      "\n",
      "Score: 0.9059985369422092\n"
     ]
    }
   ],
   "source": [
    "predictions8 = classifier8.predict(X_test)\n",
    "print(classification_report(y_test,predictions8))\n",
    "print(\"Score: {}\".format(accuracy_score(y_test, predictions8)))"
   ]
  },
  {
   "cell_type": "code",
   "execution_count": 48,
   "metadata": {
    "collapsed": false
   },
   "outputs": [
    {
     "name": "stdout",
     "output_type": "stream",
     "text": [
      "(7000, 12100)\n",
      "(7000,)\n"
     ]
    }
   ],
   "source": [
    "print(X.shape)\n",
    "print(y.shape)"
   ]
  },
  {
   "cell_type": "code",
   "execution_count": null,
   "metadata": {
    "collapsed": true
   },
   "outputs": [],
   "source": []
  }
 ],
 "metadata": {
  "anaconda-cloud": {},
  "kernelspec": {
   "display_name": "Python [conda env:miniconda3]",
   "language": "python",
   "name": "conda-env-miniconda3-py"
  },
  "language_info": {
   "codemirror_mode": {
    "name": "ipython",
    "version": 3
   },
   "file_extension": ".py",
   "mimetype": "text/x-python",
   "name": "python",
   "nbconvert_exporter": "python",
   "pygments_lexer": "ipython3",
   "version": "3.6.1"
  }
 },
 "nbformat": 4,
 "nbformat_minor": 1
}
