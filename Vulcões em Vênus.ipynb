{
 "cells": [
  {
   "cell_type": "markdown",
   "metadata": {},
   "source": [
    "# Vulcões em Vênus\n",
    "\n",
    "Nesse notebook iremos abordar uma solução para o problema [*Volcanoes on Venus* do Kaggle](https://www.kaggle.com/fmena14/volcanoesvenus). O dataset consiste em imagens de sonda do planeta Vênus e o problema consiste em predizer se uma determinada imagem contém pelo menos um vulcão ou não. "
   ]
  },
  {
   "cell_type": "markdown",
   "metadata": {},
   "source": [
    "#### Bibliotecas e ferramentas"
   ]
  },
  {
   "cell_type": "code",
   "execution_count": 32,
   "metadata": {},
   "outputs": [],
   "source": [
    "import pandas as pd\n",
    "from sklearn.svm import SVC\n",
    "from sklearn.metrics import classification_report, accuracy_score, roc_curve, auc\n",
    "from sklearn.model_selection import train_test_split\n",
    "from sklearn.preprocessing import StandardScaler\n",
    "from sklearn.decomposition import PCA\n",
    "from matplotlib import pyplot as plt"
   ]
  },
  {
   "cell_type": "markdown",
   "metadata": {},
   "source": [
    "#### Ler dados de treino e teste\n",
    "Os dados já estão separados, em treino e teste, entre imagens e *labels* (se a respectiva imagem contém pelo menos um vulcão ou não). Observe que para os *labels* estamos usando apenas a primeira coluna do dataset, pois as demais não são importantes para o problema. Após a leitura os dados são normalizados usando o Scaler."
   ]
  },
  {
   "cell_type": "code",
   "execution_count": 15,
   "metadata": {},
   "outputs": [],
   "source": [
    "X_train = pd.read_csv(\"data/train_images.csv\", header=None)\n",
    "y_train = pd.read_csv(\"data/train_labels.csv\")[\"Volcano?\"]\n",
    "X_test = pd.read_csv(\"data/test_images.csv\", header=None)\n",
    "y_test = pd.read_csv(\"data/test_labels.csv\")[\"Volcano?\"]"
   ]
  },
  {
   "cell_type": "code",
   "execution_count": 16,
   "metadata": {},
   "outputs": [],
   "source": [
    "scaler = StandardScaler()\n",
    "X_train = scaler.fit_transform(X_train)\n",
    "X_test = scaler.fit_transform(X_test)"
   ]
  },
  {
   "cell_type": "markdown",
   "metadata": {},
   "source": [
    "#### Separar dados de validação\n",
    "20% dos dados do conjunto de treino são separados para formar o conjunto de validação."
   ]
  },
  {
   "cell_type": "code",
   "execution_count": 17,
   "metadata": {},
   "outputs": [],
   "source": [
    "X_train, X_val, y_train, y_val = train_test_split(X_train, y_train, test_size=0.2, random_state=1)"
   ]
  },
  {
   "cell_type": "markdown",
   "metadata": {},
   "source": [
    "#### Análise de Componentes Principais\n",
    "Para reduzir a dimensionalidade das imagens (110 x110), usaremos PCA. Usamos **2000** componentes porque os primeiros **2000** autovetores retém **~97%** da variância."
   ]
  },
  {
   "cell_type": "code",
   "execution_count": 22,
   "metadata": {},
   "outputs": [],
   "source": [
    "pca = PCA(n_components=2000)\n",
    "pca.fit(X_train)\n",
    "X_train_pca = pca.transform(X_train)\n",
    "X_val_pca = pca.transform(X_val)\n",
    "X_test_pca = pca.transform(X_test)"
   ]
  },
  {
   "cell_type": "markdown",
   "metadata": {},
   "source": [
    "### Treinamento e validação com SVM\n",
    "Primeiro utilizamos um método de otimização para encontrar os melhores hiperparâmetros, validando o modelo."
   ]
  },
  {
   "cell_type": "code",
   "execution_count": 24,
   "metadata": {},
   "outputs": [
    {
     "name": "stdout",
     "output_type": "stream",
     "text": [
      "C = 4.0, gamma = 6.351203999200737e-05, score = 0.95\n"
     ]
    }
   ],
   "source": [
    "import dlib\n",
    "def get_score(p_C, p_gamma):\n",
    "    svm = SVC(gamma=p_gamma, kernel='rbf',C=p_C)\n",
    "    svm.fit(X_train_pca, y_train)\n",
    "    pred = svm.predict(X_val_pca)\n",
    "    return accuracy_score(y_val, pred)\n",
    "params, score = dlib.find_max_global(get_score, [0.2, 1e-10],[4.0, 1], 20)\n",
    "print('C = {}, gamma = {}, score = {}'.format(params[0], params[1], score))"
   ]
  },
  {
   "cell_type": "markdown",
   "metadata": {},
   "source": [
    "Agora usamos os dados transformados com os parâmetros validados para treinar e testar o modelo."
   ]
  },
  {
   "cell_type": "code",
   "execution_count": 28,
   "metadata": {},
   "outputs": [
    {
     "data": {
      "text/plain": [
       "SVC(C=4.0, cache_size=200, class_weight=None, coef0=0.0,\n",
       "  decision_function_shape='ovr', degree=3, gamma=6.35e-05, kernel='rbf',\n",
       "  max_iter=-1, probability=True, random_state=None, shrinking=True,\n",
       "  tol=0.001, verbose=False)"
      ]
     },
     "execution_count": 28,
     "metadata": {},
     "output_type": "execute_result"
    }
   ],
   "source": [
    "svm = SVC(kernel='rbf', C=4.0, gamma=6.35e-5, probability=True)\n",
    "svm.fit(X_train_pca, y_train)"
   ]
  },
  {
   "cell_type": "markdown",
   "metadata": {},
   "source": [
    "### Testes\n",
    "Resultados das predições no conjunto de testes."
   ]
  },
  {
   "cell_type": "code",
   "execution_count": 34,
   "metadata": {},
   "outputs": [
    {
     "name": "stdout",
     "output_type": "stream",
     "text": [
      "             precision    recall  f1-score   support\n",
      "\n",
      " não-vulcão       0.94      0.98      0.96      2300\n",
      "     vulcão       0.89      0.66      0.76       434\n",
      "\n",
      "avg / total       0.93      0.93      0.93      2734\n",
      "\n",
      "Score: 0.9337966349670812\n"
     ]
    }
   ],
   "source": [
    "pred = svm.predict(X_test_pca)\n",
    "print(classification_report(y_test, pred, target_names=['não-vulcão', 'vulcão']))\n",
    "print(\"Score: {}\".format(accuracy_score(y_test, pred)))"
   ]
  },
  {
   "cell_type": "markdown",
   "metadata": {},
   "source": [
    "### Curva ROC e área abaixo da curva"
   ]
  },
  {
   "cell_type": "code",
   "execution_count": 30,
   "metadata": {},
   "outputs": [],
   "source": [
    "probs = svm.predict_proba(X_test_pca)[:,1]\n",
    "fpr, tpr, _ = roc_curve(y_test, probs)\n",
    "auc_score = auc(fpr,tpr)"
   ]
  },
  {
   "cell_type": "code",
   "execution_count": 33,
   "metadata": {},
   "outputs": [
    {
     "data": {
      "image/png": "[encoded data removed]",
      "text/plain": [
       "<Figure size 432x288 with 1 Axes>"
      ]
     },
     "metadata": {},
     "output_type": "display_data"
    }
   ],
   "source": [
    "plt.title('Curva ROC')\n",
    "plt.plot(fpr, tpr, 'b', label = 'AUC = %0.2f' % auc_score)\n",
    "plt.legend(loc = 'lower right')\n",
    "plt.plot([0, 1], [0, 1],'r--')\n",
    "plt.xlim([0, 1])\n",
    "plt.ylim([0, 1])\n",
    "plt.ylabel('TPR - (Precisão)')\n",
    "plt.xlabel('FPR - (1-Especificidade)')\n",
    "plt.savefig('roc.png')\n",
    "plt.show()"
   ]
  },
  {
   "cell_type": "code",
   "execution_count": null,
   "metadata": {},
   "outputs": [],
   "source": []
  }
 ],
 "metadata": {
  "kernelspec": {
   "display_name": "Python 3",
   "language": "python",
   "name": "python3"
  },
  "language_info": {
   "codemirror_mode": {
    "name": "ipython",
    "version": 3
   },
   "file_extension": ".py",
   "mimetype": "text/x-python",
   "name": "python",
   "nbconvert_exporter": "python",
   "pygments_lexer": "ipython3",
   "version": "3.5.5"
  }
 },
 "nbformat": 4,
 "nbformat_minor": 2
}
