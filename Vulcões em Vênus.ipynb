{
 "cells": [
  {
   "cell_type": "markdown",
   "metadata": {},
   "source": [
    "# Vulcões em Vênus\n",
    "\n",
    "Nesse notebook iremos abordar uma solução para o problema [*Volcanoes on Venus* do Kaggle](https://www.kaggle.com/fmena14/volcanoesvenus). O dataset consiste em imagens de sonda do planeta Vênus e o problema consiste em predizer se uma determinada imagem contém pelo menos um vulcão ou não. "
   ]
  },
  {
   "cell_type": "markdown",
   "metadata": {},
   "source": [
    "#### Bibliotecas e ferramentas"
   ]
  },
  {
   "cell_type": "code",
   "execution_count": 34,
   "metadata": {},
   "outputs": [],
   "source": [
    "import pandas as pd\n",
    "from sklearn.svm import SVC\n",
    "from sklearn.metrics import classification_report, accuracy_score\n",
    "from sklearn.preprocessing import StandardScaler\n",
    "from sklearn.decomposition import PCA"
   ]
  },
  {
   "cell_type": "markdown",
   "metadata": {},
   "source": [
    "#### Ler dados de treino e teste\n",
    "Os dados já estão separados, em treino e teste, entre imagens e *labels* (se a respectiva imagem contém pelo menos um vulcão ou não). Observe que para os *labels* estamos usando apenas a primeira coluna do dataset, pois as demais não são importantes para o problema. Após a leitura os dados são normalizados usando o Scaler."
   ]
  },
  {
   "cell_type": "code",
   "execution_count": 41,
   "metadata": {},
   "outputs": [],
   "source": [
    "X_train = pd.read_csv(\"data/train_images.csv\", header=None)\n",
    "y_train = pd.read_csv(\"data/train_labels.csv\")[\"Volcano?\"]\n",
    "X_test = pd.read_csv(\"data/test_images.csv\", header=None)\n",
    "y_test = pd.read_csv(\"data/test_labels.csv\")[\"Volcano?\"]"
   ]
  },
  {
   "cell_type": "code",
   "execution_count": 45,
   "metadata": {},
   "outputs": [],
   "source": [
    "scaler = StandardScaler()\n",
    "X_train = scaler.fit_transform(X_train)\n",
    "X_test = scaler.fit_transform(X_test)"
   ]
  },
  {
   "cell_type": "markdown",
   "metadata": {},
   "source": [
    "#### Análise de Componentes Principais\n",
    "Para reduzir a dimensionalidade das imagens (110 x110), usaremos PCA. Usamos **2000** componentes porque os primeiros **700** autovetores retém **~96%** da variância."
   ]
  },
  {
   "cell_type": "code",
   "execution_count": 46,
   "metadata": {},
   "outputs": [],
   "source": [
    "pca = PCA(n_components=2000)\n",
    "pca.fit(X_train)\n",
    "X_train_pca = pca.transform(X_train)\n",
    "X_test_pca = pca.transform(X_test)"
   ]
  },
  {
   "cell_type": "markdown",
   "metadata": {},
   "source": [
    "### Treinamento com SVM\n",
    "Agora usamos os dados transformados para treinar e testar o modelo, com o método SVM."
   ]
  },
  {
   "cell_type": "code",
   "execution_count": 71,
   "metadata": {},
   "outputs": [
    {
     "data": {
      "text/plain": [
       "SVC(C=2.0, cache_size=200, class_weight=None, coef0=0.0,\n",
       "  decision_function_shape='ovr', degree=3, gamma='auto', kernel='rbf',\n",
       "  max_iter=-1, probability=False, random_state=None, shrinking=True,\n",
       "  tol=0.001, verbose=False)"
      ]
     },
     "execution_count": 71,
     "metadata": {},
     "output_type": "execute_result"
    }
   ],
   "source": [
    "svm = SVC(kernel='rbf', C=2.0)\n",
    "svm.fit(X_train_pca, y_train)"
   ]
  },
  {
   "cell_type": "markdown",
   "metadata": {},
   "source": [
    "### Testes\n",
    "Resultados das predições no conjunto de testes."
   ]
  },
  {
   "cell_type": "code",
   "execution_count": 72,
   "metadata": {},
   "outputs": [
    {
     "name": "stdout",
     "output_type": "stream",
     "text": [
      "             precision    recall  f1-score   support\n",
      "\n",
      "          0       0.94      0.99      0.96      2300\n",
      "          1       0.91      0.68      0.78       434\n",
      "\n",
      "avg / total       0.94      0.94      0.94      2734\n",
      "\n",
      "Score: 0.9389173372348207\n"
     ]
    }
   ],
   "source": [
    "pred = svm.predict(X_test_pca)\n",
    "print(classification_report(y_test, pred))\n",
    "print(\"Score: {}\".format(accuracy_score(y_test, pred)))"
   ]
  },
  {
   "cell_type": "code",
   "execution_count": null,
   "metadata": {},
   "outputs": [],
   "source": []
  }
 ],
 "metadata": {
  "kernelspec": {
   "display_name": "Python 3",
   "language": "python",
   "name": "python3"
  },
  "language_info": {
   "codemirror_mode": {
    "name": "ipython",
    "version": 3
   },
   "file_extension": ".py",
   "mimetype": "text/x-python",
   "name": "python",
   "nbconvert_exporter": "python",
   "pygments_lexer": "ipython3",
   "version": "3.5.5"
  }
 },
 "nbformat": 4,
 "nbformat_minor": 2
}
